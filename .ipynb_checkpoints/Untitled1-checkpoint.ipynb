{
 "cells": [
  {
   "cell_type": "code",
   "execution_count": 6,
   "id": "23640dbc",
   "metadata": {},
   "outputs": [],
   "source": [
    "def letra_x(number):\n",
    "    for fila in range(number):\n",
    "        for columna in range(number):\n",
    "            if fila == columna:\n",
    "                print(\"*\", end='')\n",
    "            else:\n",
    "                print(' ', end='')"
   ]
  },
  {
   "cell_type": "code",
   "execution_count": 12,
   "id": "63798605",
   "metadata": {},
   "outputs": [],
   "source": [
    "letra_x(3)"
   ]
  },
  {
   "cell_type": "code",
   "execution_count": null,
   "id": "9521e74c",
   "metadata": {},
   "outputs": [],
   "source": []
  },
  {
   "cell_type": "code",
   "execution_count": null,
   "id": "755a5d52",
   "metadata": {},
   "outputs": [],
   "source": []
  },
  {
   "cell_type": "code",
   "execution_count": null,
   "id": "ad5fd040",
   "metadata": {},
   "outputs": [],
   "source": []
  }
 ],
 "metadata": {
  "kernelspec": {
   "display_name": "Python 3",
   "language": "python",
   "name": "python3"
  },
  "language_info": {
   "codemirror_mode": {
    "name": "ipython",
    "version": 3
   },
   "file_extension": ".py",
   "mimetype": "text/x-python",
   "name": "python",
   "nbconvert_exporter": "python",
   "pygments_lexer": "ipython3",
   "version": "3.8.8"
  }
 },
 "nbformat": 4,
 "nbformat_minor": 5
}
