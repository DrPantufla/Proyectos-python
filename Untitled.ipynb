{
 "cells": [
  {
   "cell_type": "code",
   "execution_count": 1,
   "id": "9e8ca36a",
   "metadata": {},
   "outputs": [],
   "source": [
    "import string\n",
    "\n",
    "def gen(numero):\n",
    "    abecedario = string.ascii_lowercase\n",
    "    contar = 0\n",
    "    acumulador = \"\"\n",
    "    for letra in abecedario:\n",
    "        acumulador += letra\n",
    "        contar += 1\n",
    "        if contar == numero:\n",
    "            break\n",
    "    print(acumulador)\n",
    "                        "
   ]
  },
  {
   "cell_type": "code",
   "execution_count": 4,
   "id": "58323c15",
   "metadata": {},
   "outputs": [
    {
     "name": "stdout",
     "output_type": "stream",
     "text": [
      "abcdefghi\n"
     ]
    }
   ],
   "source": [
    "gen(9)"
   ]
  },
  {
   "cell_type": "code",
   "execution_count": null,
   "id": "7ecb27f6",
   "metadata": {},
   "outputs": [],
   "source": []
  }
 ],
 "metadata": {
  "kernelspec": {
   "display_name": "Python 3",
   "language": "python",
   "name": "python3"
  },
  "language_info": {
   "codemirror_mode": {
    "name": "ipython",
    "version": 3
   },
   "file_extension": ".py",
   "mimetype": "text/x-python",
   "name": "python",
   "nbconvert_exporter": "python",
   "pygments_lexer": "ipython3",
   "version": "3.8.8"
  }
 },
 "nbformat": 4,
 "nbformat_minor": 5
}
